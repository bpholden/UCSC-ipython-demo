{
 "metadata": {
  "name": "",
  "signature": "sha256:a4788039329def171e0b20213b50fb850ba9c955886b85a6d270327e2013e91f"
 },
 "nbformat": 3,
 "nbformat_minor": 0,
 "worksheets": [
  {
   "cells": [
    {
     "cell_type": "heading",
     "level": 1,
     "metadata": {},
     "source": [
      "Configuring IPython"
     ]
    },
    {
     "cell_type": "heading",
     "level": 2,
     "metadata": {},
     "source": [
      "Finding configuration options"
     ]
    },
    {
     "cell_type": "markdown",
     "metadata": {},
     "source": [
      "IPython has many configurable attributes. These can be viewed using the `-h` flag to the command line applications:"
     ]
    },
    {
     "cell_type": "code",
     "collapsed": false,
     "input": [
      "!ipython -h"
     ],
     "language": "python",
     "metadata": {},
     "outputs": []
    },
    {
     "cell_type": "markdown",
     "metadata": {},
     "source": [
      "This is an important trick for finding out configuration info:\n",
      "    \n",
      "    $> ipython [subcommand] --help-all | grep [-C context] PATTERN\n",
      "\n",
      "`--help-all` exposes everything configurable in IPython,\n",
      "there is a good chance you will find what you are looking for."
     ]
    },
    {
     "cell_type": "markdown",
     "metadata": {},
     "source": [
      "A common configuration question is:\n",
      "\n",
      "> how do I disable the \"Do you really want to exit\" message when quitting with `Ctrl-d`?\n",
      "\n",
      "Well, logically this has to do with `exit`, so let's look for it:"
     ]
    },
    {
     "cell_type": "code",
     "collapsed": false,
     "input": [
      "!ipython --help-all | GREP_COLOR='1;31;46' grep --color exit"
     ],
     "language": "python",
     "metadata": {},
     "outputs": []
    },
    {
     "cell_type": "markdown",
     "metadata": {},
     "source": [
      "Which shows me that I can disable the confirmation for a single IPython session with\n",
      "\n",
      "    $> ipython --no-confirm-exit\n",
      "    \n",
      "or I can set the `TerminalInteractiveShell.confirm_exit=False` in a config file,\n",
      "to have it be the default behavior."
     ]
    },
    {
     "cell_type": "heading",
     "level": 2,
     "metadata": {},
     "source": [
      "Configuration principles"
     ]
    },
    {
     "cell_type": "markdown",
     "metadata": {},
     "source": [
      "Here are the design principles of the IPython configuration system: \n",
      "\n",
      "* Configuration is always done using class attributes\n",
      "* Classes that have configurable attributes are subclasses of `Configurable`\n",
      "* Attributes that are configurable are typed traitlets objects (`Bool`, `Unicode`, etc.) that have `config=True`\n",
      "* In config files, configurable attributes can be set using the format `Class.attr_name=the_value`\n",
      "* At the command line, configurable attributes can be set using the syntax `--Class.attr_name=the_value`\n",
      "* At the command line, some attributes have shorthands of the form `--attr-name=value`\n",
      "* Values set at the command line have higher priority than those set in config files"
     ]
    },
    {
     "cell_type": "heading",
     "level": 2,
     "metadata": {},
     "source": [
      "The IPython Profile"
     ]
    },
    {
     "cell_type": "markdown",
     "metadata": {},
     "source": [
      "IPython has a notion of 'profiles' - these are directories that live in your IPYTHONDIR,\n",
      "which contain configuration and runtime information.\n",
      "\n",
      "Let's create the default profile"
     ]
    },
    {
     "cell_type": "code",
     "collapsed": false,
     "input": [
      "!ipython profile create newprofile"
     ],
     "language": "python",
     "metadata": {},
     "outputs": []
    },
    {
     "cell_type": "markdown",
     "metadata": {},
     "source": [
      "This creates a profile in your IPYTHONDIR (`ipython locate` is a quick way to see where your IPYTHONDIR is),\n",
      "and populates it with automatically generated default config files."
     ]
    },
    {
     "cell_type": "code",
     "collapsed": false,
     "input": [
      "!ipython locate profile default\n",
      "!ipython locate profile newprofile"
     ],
     "language": "python",
     "metadata": {},
     "outputs": []
    },
    {
     "cell_type": "markdown",
     "metadata": {},
     "source": [
      "You can skim"
     ]
    },
    {
     "cell_type": "code",
     "collapsed": false,
     "input": [
      "profile = get_ipython().profile_dir.location\n",
      "profile"
     ],
     "language": "python",
     "metadata": {},
     "outputs": []
    },
    {
     "cell_type": "code",
     "collapsed": false,
     "input": [
      "ls $profile"
     ],
     "language": "python",
     "metadata": {},
     "outputs": []
    },
    {
     "cell_type": "markdown",
     "metadata": {},
     "source": [
      "Let's peek at our config file"
     ]
    },
    {
     "cell_type": "code",
     "collapsed": false,
     "input": [
      "pycat $profile/ipython_config.py"
     ],
     "language": "python",
     "metadata": {},
     "outputs": []
    },
    {
     "cell_type": "heading",
     "level": 2,
     "metadata": {},
     "source": [
      "Startup Files"
     ]
    },
    {
     "cell_type": "markdown",
     "metadata": {},
     "source": [
      "Startup files are simple Python or IPython scripts\n",
      "that are run whenever you start IPython.\n",
      "These are a useful way to do super common imports,\n",
      "or for building database connections to load on startup of a non-default profile.\n",
      "\n",
      "We can use a startup file to ensure that our `%tic/toc` magics are always defined,\n",
      "every time we start IPython."
     ]
    },
    {
     "cell_type": "code",
     "collapsed": false,
     "input": [
      "!ls $profile/startup"
     ],
     "language": "python",
     "metadata": {},
     "outputs": []
    },
    {
     "cell_type": "code",
     "collapsed": false,
     "input": [
      "!cat $profile/startup/README"
     ],
     "language": "python",
     "metadata": {},
     "outputs": []
    },
    {
     "cell_type": "markdown",
     "metadata": {},
     "source": [
      "Adding common imports, so we never have to forget them again"
     ]
    },
    {
     "cell_type": "code",
     "collapsed": false,
     "input": [
      "%%writefile $profile/startup/simpleimports.py\n",
      "\n",
      "import sys, os, time, re"
     ],
     "language": "python",
     "metadata": {},
     "outputs": []
    },
    {
     "cell_type": "markdown",
     "metadata": {},
     "source": [
      "**Restart the kernel** and then run the following cells immediately to verify these scripts have been executed:"
     ]
    },
    {
     "cell_type": "code",
     "collapsed": false,
     "input": [
      "sys"
     ],
     "language": "python",
     "metadata": {},
     "outputs": []
    },
    {
     "cell_type": "heading",
     "level": 2,
     "metadata": {},
     "source": [
      "Defining your own magic"
     ]
    },
    {
     "cell_type": "markdown",
     "metadata": {},
     "source": [
      "As we have seen already, IPython has cell and line magics. You can define your own magics using any Python function and the `register_magic_function` method:"
     ]
    },
    {
     "cell_type": "code",
     "collapsed": false,
     "input": [
      "from IPython.core.magic import (register_line_magic, register_cell_magic,\n",
      "                                register_line_cell_magic)"
     ],
     "language": "python",
     "metadata": {},
     "outputs": []
    },
    {
     "cell_type": "code",
     "collapsed": false,
     "input": [
      "@register_line_magic\n",
      "def sleep(line):\n",
      "    \"\"\"A simple function for sleeping\"\"\"\n",
      "    import time\n",
      "    t = float(line)\n",
      "    time.sleep(t)"
     ],
     "language": "python",
     "metadata": {},
     "outputs": []
    },
    {
     "cell_type": "code",
     "collapsed": false,
     "input": [
      "%sleep 2"
     ],
     "language": "python",
     "metadata": {},
     "outputs": []
    },
    {
     "cell_type": "code",
     "collapsed": false,
     "input": [
      "%sleep?"
     ],
     "language": "python",
     "metadata": {},
     "outputs": []
    },
    {
     "cell_type": "heading",
     "level": 3,
     "metadata": {},
     "source": [
      "Cell Magic"
     ]
    },
    {
     "cell_type": "markdown",
     "metadata": {},
     "source": [
      "**Cell magics** take two args:\n",
      "\n",
      "1. the **line** on the same line of the magic \n",
      "2. the **cell** the multiline body of the cell after the first line"
     ]
    },
    {
     "cell_type": "code",
     "collapsed": false,
     "input": [
      "@register_cell_magic\n",
      "def dummy(line, cell):\n",
      "    \"\"\"dummy cell magic for displaying the line and cell it is passed\"\"\"\n",
      "    print \"line: %r\" % line\n",
      "    print \"cell: %r\" % cell"
     ],
     "language": "python",
     "metadata": {},
     "outputs": []
    },
    {
     "cell_type": "code",
     "collapsed": false,
     "input": [
      "%%dummy this is the line\n",
      "this\n",
      "is the\n",
      "cell"
     ],
     "language": "python",
     "metadata": {},
     "outputs": []
    },
    {
     "cell_type": "markdown",
     "metadata": {},
     "source": [
      "For more details on declaring your own magics in more complex scenarios, [see our docs](http://ipython.org/ipython-doc/stable/interactive/reference.html#defining-your-own-magics)."
     ]
    }
   ],
   "metadata": {}
  }
 ]
}