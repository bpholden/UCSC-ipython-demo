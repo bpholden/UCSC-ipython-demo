{
 "metadata": {
  "name": "",
  "signature": "sha256:2a94c6122359eee0a879bb511241bd53111759d02540821272130b5fe1b929ff"
 },
 "nbformat": 3,
 "nbformat_minor": 0,
 "worksheets": [
  {
   "cells": [
    {
     "cell_type": "heading",
     "level": 1,
     "metadata": {},
     "source": [
      "IPython tutorial"
     ]
    },
    {
     "cell_type": "markdown",
     "metadata": {},
     "source": [
      "<img src=\"examples/images/ipkernel_clients.png\", width=400>"
     ]
    },
    {
     "cell_type": "markdown",
     "metadata": {},
     "source": [
      "Class outline:\n",
      "\n",
      "* A quick [installation check](http://ipython.org/install.html)\n",
      "* An overview of the IPython project from [the official website](http://ipython.org).\n",
      "* [Notebook Basics](examples/Notebook/Notebook Basics.ipynb)\n",
      "* [IPython - beyond plain python](examples/IPython Kernel/Beyond Plain Python.ipynb)\n",
      "* [Markdown Cells](examples/Notebook/Working With Markdown Cells.ipynb)\n",
      "* [Rich Display System](examples/IPython Kernel/Rich Output.ipynb)\n",
      "* [Custom Display Logic](examples/IPython Kernel/Custom Display Logic.ipynb)\n",
      "* [Introduction to Interactive Javascript Widgets](examples/Interactive Widgets/Using Interact.ipynb)\n",
      "* [Lorenz Differential Equations Widget Example](examples/Interactive Widgets/Lorenz%20Differential%20Equations.ipynb)\n",
      "* [Customizing IPython - a condensed version](exercises/Customization/Condensed.ipynb)\n",
      "* [Running notebooks on a remote machine](examples/Notebook/Running%20the%20Notebook%20Server.ipynb#Securing-the-notebook-server)"
     ]
    },
    {
     "cell_type": "markdown",
     "metadata": {},
     "source": [
      "There are a lot more detailed notebooks in this same directory that cover other topics, but we can not cover all in a 3-hour tutorial. We encourage you to explore them and practice on your own.\n",
      "\n",
      "For even more detail, you can visit our [example collection](http://nbviewer.ipython.org/github/ipython/ipython/blob/master/examples/Index.ipynb) from our site, also included in the IPython source code repository."
     ]
    }
   ],
   "metadata": {}
  }
 ]
}